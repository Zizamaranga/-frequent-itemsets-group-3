{
 "cells": [
  {
   "cell_type": "code",
   "execution_count": null,
   "id": "76751560",
   "metadata": {},
   "outputs": [
    {
     "name": "stdout",
     "output_type": "stream",
     "text": [
      "                                         Transaction\n",
      "0  Butter, Milk, Soap, Beef, Chicken, Toothpaste,...\n",
      "1    Butter, Peas, Soap, Onions, Eggs, Lettuce, Rice\n",
      "2                                         Milk, Eggs\n",
      "3                         Chicken, Potatoes, Carrots\n",
      "4                                    Onions, Bananas\n"
     ]
    }
   ],
   "source": [
    "# Importing required libraries\n",
    "import pandas as pd # Data manipulation library\n",
    "import random \n",
    "\n",
    "# Define a pool of 30 unique supermarket items\n",
    "item_pool = [ # List of items available in the supermarket\n",
    "    'Milk', 'Bread', 'Eggs', 'Butter', 'Cheese', 'Apples', 'Bananas', 'Chicken',\n",
    "    'Beef', 'Fish', 'Yogurt', 'Juice', 'Cereal', 'Rice', 'Pasta', 'Tomatoes',\n",
    "    'Potatoes', 'Onions', 'Lettuce', 'Carrots', 'Beans', 'Peas', 'Toilet Paper',\n",
    "    'Soap', 'Shampoo', 'Toothpaste', 'Water', 'Soda', 'Coffee', 'Tea'\n",
    "] # A list of items to simulate transactions\n",
    "\n",
    "# Set a random seed for reproducibility\n",
    "random.seed(42)\n",
    "\n",
    "# Generate 3000 transactions with 2–7 random items each\n",
    "transactions = []\n",
    "for _ in range(3000):\n",
    "    num_items = random.randint(2, 7)\n",
    "    transaction = random.sample(item_pool, num_items)\n",
    "    transactions.append(', '.join(transaction))  # Join items into a comma-separated string\n",
    "\n",
    "# Save transactions to CSV\n",
    "df_transactions = pd.DataFrame({'Transaction': transactions})\n",
    "df_transactions.to_csv('supermarket_transactions.csv', index=False)\n",
    "\n",
    "# Preview first 5 transactions\n",
    "print(df_transactions.head())\n"
   ]
  }
 ],
 "metadata": {
  "kernelspec": {
   "display_name": "Python 3",
   "language": "python",
   "name": "python3"
  },
  "language_info": {
   "codemirror_mode": {
    "name": "ipython",
    "version": 3
   },
   "file_extension": ".py",
   "mimetype": "text/x-python",
   "name": "python",
   "nbconvert_exporter": "python",
   "pygments_lexer": "ipython3",
   "version": "3.12.10"
  }
 },
 "nbformat": 4,
 "nbformat_minor": 5
}
